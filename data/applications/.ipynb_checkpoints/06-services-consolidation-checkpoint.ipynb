{
 "cells": [
  {
   "cell_type": "code",
   "execution_count": 55,
   "metadata": {},
   "outputs": [],
   "source": [
    "import json \n",
    "import numpy as np\n",
    "import pandas as pd\n",
    "\n",
    "from sklearn.cluster import AgglomerativeClustering"
   ]
  },
  {
   "cell_type": "code",
   "execution_count": 56,
   "metadata": {},
   "outputs": [],
   "source": [
    "def get_application(app_name, folder='orign'):\n",
    "    # Read JSON data from file\n",
    "    \n",
    "    with open(folder+'/'+app_name+'.json', 'r') as json_file:\n",
    "        json_data = json_file.read()\n",
    "\n",
    "    # Convert JSON data into a dictionary\n",
    "    data_dict = json.loads(json_data)\n",
    "\n",
    "    # Create DataFrames\n",
    "    df_services = pd.DataFrame(data_dict['services'])\n",
    "\n",
    "    # Expand choreography into a DataFrame\n",
    "    choreography_list = []\n",
    "    for app in data_dict['applications']:\n",
    "        app_name = app['name']\n",
    "        for payload in app['choreography']:\n",
    "            payload_data = {\n",
    "                'application': app_name,\n",
    "                'source': payload['source'],\n",
    "                'target': payload['target'],\n",
    "                'payload': payload['payload'],\n",
    "                'transmission_time': payload['transmission_time']\n",
    "            }\n",
    "            choreography_list.append(payload_data)\n",
    "\n",
    "    df_choreog = pd.DataFrame(choreography_list)\n",
    "\n",
    "    return df_services, df_choreog"
   ]
  },
  {
   "cell_type": "code",
   "execution_count": 63,
   "metadata": {},
   "outputs": [],
   "source": [
    "def find_elements(data, index):\n",
    "    output = []\n",
    "    for i, row in enumerate(data):\n",
    "        if row[4] == index:\n",
    "            if i > 0 and data[i-1][4] == 0:\n",
    "                output[-1].extend([row[0], row[1]])\n",
    "            else: \n",
    "                output.append([row[0], row[1]])\n",
    "        else:\n",
    "            \n",
    "            if i > 0 and i < len(data):\n",
    "                print(i, len(data))\n",
    "                if data[i+1][4] == 1:\n",
    "                    output.append([row[1]])\n",
    "            else:\n",
    "                output.append([row[0]])\n",
    "        \n",
    "    return output"
   ]
  },
  {
   "cell_type": "code",
   "execution_count": 64,
   "metadata": {},
   "outputs": [
    {
     "name": "stdout",
     "output_type": "stream",
     "text": [
      "5 27\n",
      "7 27\n",
      "8 27\n",
      "10 27\n",
      "13 27\n",
      "16 27\n",
      "20 27\n",
      "24 27\n",
      "26 27\n"
     ]
    },
    {
     "ename": "IndexError",
     "evalue": "index 27 is out of bounds for axis 0 with size 27",
     "output_type": "error",
     "traceback": [
      "\u001b[0;31m---------------------------------------------------------------------------\u001b[0m",
      "\u001b[0;31mIndexError\u001b[0m                                Traceback (most recent call last)",
      "Cell \u001b[0;32mIn[64], line 14\u001b[0m\n\u001b[1;32m     10\u001b[0m coreography_data \u001b[38;5;241m=\u001b[39m np\u001b[38;5;241m.\u001b[39minsert(coreography_data, \u001b[38;5;241m4\u001b[39m, values\u001b[38;5;241m=\u001b[39mclustering\u001b[38;5;241m.\u001b[39mlabels_, axis\u001b[38;5;241m=\u001b[39m\u001b[38;5;241m1\u001b[39m)\n\u001b[1;32m     12\u001b[0m max_value \u001b[38;5;241m=\u001b[39m \u001b[38;5;28mmax\u001b[39m(coreography_data, key\u001b[38;5;241m=\u001b[39m\u001b[38;5;28;01mlambda\u001b[39;00m x: x[\u001b[38;5;241m2\u001b[39m])\n\u001b[0;32m---> 14\u001b[0m consolidation \u001b[38;5;241m=\u001b[39m find_elements(coreography_data, max_value[\u001b[38;5;241m4\u001b[39m])\n\u001b[1;32m     15\u001b[0m \u001b[38;5;28mprint\u001b[39m(consolidation)\n",
      "Cell \u001b[0;32mIn[63], line 13\u001b[0m, in \u001b[0;36mfind_elements\u001b[0;34m(data, index)\u001b[0m\n\u001b[1;32m     11\u001b[0m \u001b[38;5;28;01mif\u001b[39;00m i \u001b[38;5;241m>\u001b[39m \u001b[38;5;241m0\u001b[39m \u001b[38;5;129;01mand\u001b[39;00m i \u001b[38;5;241m<\u001b[39m \u001b[38;5;28mlen\u001b[39m(data):\n\u001b[1;32m     12\u001b[0m     \u001b[38;5;28mprint\u001b[39m(i, \u001b[38;5;28mlen\u001b[39m(data))\n\u001b[0;32m---> 13\u001b[0m     \u001b[38;5;28;01mif\u001b[39;00m data[i\u001b[38;5;241m+\u001b[39m\u001b[38;5;241m1\u001b[39m][\u001b[38;5;241m4\u001b[39m] \u001b[38;5;241m==\u001b[39m \u001b[38;5;241m1\u001b[39m:\n\u001b[1;32m     14\u001b[0m         output\u001b[38;5;241m.\u001b[39mappend([row[\u001b[38;5;241m1\u001b[39m]])\n\u001b[1;32m     15\u001b[0m \u001b[38;5;28;01melse\u001b[39;00m:\n",
      "\u001b[0;31mIndexError\u001b[0m: index 27 is out of bounds for axis 0 with size 27"
     ]
    }
   ],
   "source": [
    "df_services, df_choreog = get_application('App1')\n",
    "\n",
    "services_data = pd.DataFrame(df_services, columns=['id', 'cpu', 'memory', 'storage', 'bandwidth']).to_numpy()\n",
    "\n",
    "coreography_data = pd.DataFrame(df_choreog, columns=['source', 'target', 'payload', 'transmission_time']).to_numpy()\n",
    "X = [[row[2], row[3]] for row in coreography_data]\n",
    "\n",
    "clustering = AgglomerativeClustering().fit(X)\n",
    "coreography_data = np.array(coreography_data)\n",
    "coreography_data = np.insert(coreography_data, 4, values=clustering.labels_, axis=1)\n",
    "\n",
    "max_value = max(coreography_data, key=lambda x: x[2])\n",
    "\n",
    "consolidation = find_elements(coreography_data, max_value[4])\n",
    "print(consolidation)"
   ]
  },
  {
   "cell_type": "code",
   "execution_count": null,
   "metadata": {},
   "outputs": [
    {
     "name": "stdout",
     "output_type": "stream",
     "text": [
      "Sum of col1 for the group [16]: 44\n",
      "Sum of col2 for the group [16]: 220\n",
      "Sum of col3 for the group [16]: 70\n",
      "Sum of group for the group [16]: 17\n",
      "Sum of col1 for the group [624, 241]: 265\n",
      "Sum of col2 for the group [624, 241]: 309\n",
      "Sum of col3 for the group [624, 241]: 276\n",
      "Sum of group for the group [624, 241]: 35\n",
      "Sum of col1 for the group [63, 871, 871, 848]: 646\n",
      "Sum of col2 for the group [63, 871, 871, 848]: 373\n",
      "Sum of col3 for the group [63, 871, 871, 848]: 224\n",
      "Sum of group for the group [63, 871, 871, 848]: 52\n",
      "Sum of col1 for the group [744]: 405\n",
      "Sum of col2 for the group [744]: 217\n",
      "Sum of col3 for the group [744]: 219\n",
      "Sum of group for the group [744]: 15\n",
      "Sum of col1 for the group [995, 253]: 265\n",
      "Sum of col2 for the group [995, 253]: 625\n",
      "Sum of col3 for the group [995, 253]: 252\n",
      "Sum of group for the group [995, 253]: 35\n",
      "Sum of col1 for the group [323, 472]: 262\n",
      "Sum of col2 for the group [323, 472]: 382\n",
      "Sum of col3 for the group [323, 472]: 268\n",
      "Sum of group for the group [323, 472]: 36\n",
      "Sum of col1 for the group [317, 35, 35, 59]: 1330\n",
      "Sum of col2 for the group [317, 35, 35, 59]: 809\n",
      "Sum of col3 for the group [317, 35, 35, 59]: 244\n",
      "Sum of group for the group [317, 35, 35, 59]: 51\n",
      "Sum of col1 for the group [499, 283]: 385\n",
      "Sum of col2 for the group [499, 283]: 518\n",
      "Sum of col3 for the group [499, 283]: 216\n",
      "Sum of group for the group [499, 283]: 35\n",
      "Sum of col1 for the group [249]: 144\n",
      "Sum of col2 for the group [249]: 186\n",
      "Sum of col3 for the group [249]: 128\n",
      "Sum of group for the group [249]: 17\n",
      "Sum of col1 for the group [337, 529, 529, 153, 153, 994, 994, 912, 912, 684]: 1948\n",
      "Sum of col2 for the group [337, 529, 529, 153, 153, 994, 994, 912, 912, 684]: 753\n",
      "Sum of col3 for the group [337, 529, 529, 153, 153, 994, 994, 912, 912, 684]: 639\n",
      "Sum of group for the group [337, 529, 529, 153, 153, 994, 994, 912, 912, 684]: 102\n",
      "Sum of col1 for the group [471, 284]: 411\n",
      "Sum of col2 for the group [471, 284]: 491\n",
      "Sum of col3 for the group [471, 284]: 133\n",
      "Sum of group for the group [471, 284]: 33\n"
     ]
    }
   ],
   "source": [
    "import pandas as pd\n",
    "\n",
    "# define the data\n",
    "\n",
    "# create a DataFrame for the services data\n",
    "services_df = pd.DataFrame(services_data, columns=['id', 'col1', 'col2', 'col3', 'group'])\n",
    "\n",
    "# iterate over the id_services list\n",
    "for service_ids in consolidation:\n",
    "    # create a sub DataFrame for the current group of ids\n",
    "    sub_df = services_df[services_df['id'].isin(service_ids)]\n",
    "    \n",
    "    # # calculate the sum of the data services for the current group\n",
    "    # services_sum = sub_df.iloc[:, 1:].sum().sum()\n",
    "    \n",
    "    # # print the result\n",
    "    # print(f\"Sum of data services for the group {service_ids}: {services_sum}\")\n",
    "    for column in sub_df.columns[1:]:\n",
    "        column_sum = sub_df[column].sum()\n",
    "        print(f\"Sum of {column} for the group {service_ids}: {column_sum}\")"
   ]
  },
  {
   "cell_type": "code",
   "execution_count": 60,
   "metadata": {},
   "outputs": [
    {
     "name": "stdout",
     "output_type": "stream",
     "text": [
      "[[576 919  35   7   1]\n",
      " [919 183 447   5   0]\n",
      " [183 822 452   8   0]\n",
      " [822 383 338   9   0]\n",
      " [383 192 261   5   0]\n",
      " [192 512 113   6   1]\n",
      " [512 461 279   9   0]\n",
      " [461 558 130   9   1]\n",
      " [558 725  21   6   1]\n",
      " [725 250 311   7   0]\n",
      " [250 849  33   6   1]\n",
      " [849 421 206   8   0]\n",
      " [421 432 392   9   0]\n",
      " [432 995 112   7   1]\n",
      " [995 191 448   5   0]\n",
      " [191 918 309   9   0]\n",
      " [918 358 143   5   1]\n",
      " [358 974 491   5   0]\n",
      " [974 318 298   7   0]\n",
      " [318 286 233   6   0]\n",
      " [286 862 118   9   1]\n",
      " [862 831 356   5   0]\n",
      " [831 701 231   8   0]\n",
      " [701 401 406   5   0]\n",
      " [401 567  98   7   1]\n",
      " [567 830 395   6   0]\n",
      " [830 797  92   8   1]]\n"
     ]
    }
   ],
   "source": [
    "print(coreography_data)"
   ]
  },
  {
   "cell_type": "code",
   "execution_count": null,
   "metadata": {},
   "outputs": [],
   "source": []
  }
 ],
 "metadata": {
  "kernelspec": {
   "display_name": "base",
   "language": "python",
   "name": "python3"
  },
  "language_info": {
   "codemirror_mode": {
    "name": "ipython",
    "version": 3
   },
   "file_extension": ".py",
   "mimetype": "text/x-python",
   "name": "python",
   "nbconvert_exporter": "python",
   "pygments_lexer": "ipython3",
   "version": "3.11.4"
  }
 },
 "nbformat": 4,
 "nbformat_minor": 2
}
