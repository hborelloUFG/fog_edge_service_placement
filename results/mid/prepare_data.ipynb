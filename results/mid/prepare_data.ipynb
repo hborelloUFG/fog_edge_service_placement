{
 "cells": [
  {
   "cell_type": "markdown",
   "id": "676207ed",
   "metadata": {},
   "source": [
    "## Preparando dados para plotagem em outro projeto"
   ]
  },
  {
   "cell_type": "code",
   "execution_count": 5,
   "id": "bdd7bd26",
   "metadata": {},
   "outputs": [],
   "source": [
    "import pandas as pd"
   ]
  },
  {
   "cell_type": "code",
   "execution_count": 6,
   "id": "d0981c60",
   "metadata": {},
   "outputs": [],
   "source": [
    "top = 'germany'\n",
    "# file = 'h1_min_nodes_alloc_'+top+'_new.csv'\n",
    "# file = 'h2_min_residual_'+top+'_new.csv'\n",
    "file = 'h3_min_hops_'+top+'_new.csv'\n",
    "df = pd.read_csv(file)"
   ]
  },
  {
   "cell_type": "code",
   "execution_count": 7,
   "id": "a898e7cd",
   "metadata": {},
   "outputs": [
    {
     "data": {
      "text/html": [
       "<div>\n",
       "<style scoped>\n",
       "    .dataframe tbody tr th:only-of-type {\n",
       "        vertical-align: middle;\n",
       "    }\n",
       "\n",
       "    .dataframe tbody tr th {\n",
       "        vertical-align: top;\n",
       "    }\n",
       "\n",
       "    .dataframe thead th {\n",
       "        text-align: right;\n",
       "    }\n",
       "</style>\n",
       "<table border=\"1\" class=\"dataframe\">\n",
       "  <thead>\n",
       "    <tr style=\"text-align: right;\">\n",
       "      <th></th>\n",
       "      <th>Application</th>\n",
       "      <th>MinHops</th>\n",
       "      <th>MeanMinHops</th>\n",
       "      <th>StdMinHops</th>\n",
       "      <th>MeanTime</th>\n",
       "      <th>BestAllocations</th>\n",
       "    </tr>\n",
       "  </thead>\n",
       "  <tbody>\n",
       "    <tr>\n",
       "      <th>0</th>\n",
       "      <td>App0</td>\n",
       "      <td>23.0</td>\n",
       "      <td>26.83</td>\n",
       "      <td>1.985220</td>\n",
       "      <td>0.000571</td>\n",
       "      <td>[(0, 16), (1, 9), (2, 9), (3, 9), (4, 23), (5,...</td>\n",
       "    </tr>\n",
       "    <tr>\n",
       "      <th>1</th>\n",
       "      <td>App1</td>\n",
       "      <td>19.0</td>\n",
       "      <td>22.91</td>\n",
       "      <td>2.608045</td>\n",
       "      <td>0.000555</td>\n",
       "      <td>[(0, 17), (1, 17), (2, 24), (3, 24), (4, 24), ...</td>\n",
       "    </tr>\n",
       "    <tr>\n",
       "      <th>2</th>\n",
       "      <td>App2</td>\n",
       "      <td>25.0</td>\n",
       "      <td>28.09</td>\n",
       "      <td>1.588049</td>\n",
       "      <td>0.000569</td>\n",
       "      <td>[(0, 44), (1, 10), (2, 14), (3, 12), (4, 28), ...</td>\n",
       "    </tr>\n",
       "    <tr>\n",
       "      <th>3</th>\n",
       "      <td>App3</td>\n",
       "      <td>20.0</td>\n",
       "      <td>29.25</td>\n",
       "      <td>3.453621</td>\n",
       "      <td>0.000597</td>\n",
       "      <td>[(0, 9), (1, 9), (2, 19), (3, 16), (4, 28), (5...</td>\n",
       "    </tr>\n",
       "    <tr>\n",
       "      <th>4</th>\n",
       "      <td>App4</td>\n",
       "      <td>2.0</td>\n",
       "      <td>4.88</td>\n",
       "      <td>1.498533</td>\n",
       "      <td>0.000244</td>\n",
       "      <td>[(0, 13), (1, 13), (2, 13), (3, 13), (4, 8), (...</td>\n",
       "    </tr>\n",
       "  </tbody>\n",
       "</table>\n",
       "</div>"
      ],
      "text/plain": [
       "  Application  MinHops  MeanMinHops  StdMinHops  MeanTime  \\\n",
       "0        App0     23.0        26.83    1.985220  0.000571   \n",
       "1        App1     19.0        22.91    2.608045  0.000555   \n",
       "2        App2     25.0        28.09    1.588049  0.000569   \n",
       "3        App3     20.0        29.25    3.453621  0.000597   \n",
       "4        App4      2.0         4.88    1.498533  0.000244   \n",
       "\n",
       "                                     BestAllocations  \n",
       "0  [(0, 16), (1, 9), (2, 9), (3, 9), (4, 23), (5,...  \n",
       "1  [(0, 17), (1, 17), (2, 24), (3, 24), (4, 24), ...  \n",
       "2  [(0, 44), (1, 10), (2, 14), (3, 12), (4, 28), ...  \n",
       "3  [(0, 9), (1, 9), (2, 19), (3, 16), (4, 28), (5...  \n",
       "4  [(0, 13), (1, 13), (2, 13), (3, 13), (4, 8), (...  "
      ]
     },
     "execution_count": 7,
     "metadata": {},
     "output_type": "execute_result"
    }
   ],
   "source": [
    "df.head()"
   ]
  },
  {
   "cell_type": "code",
   "execution_count": 8,
   "id": "a852379e",
   "metadata": {},
   "outputs": [],
   "source": [
    "# Suponha que df já contenha os dados com a coluna 'Application', 'BestAllocations' e 'MeanTime'\n",
    "\n",
    "def format_row(row):\n",
    "    alloc_str = str(row['BestAllocations'])\n",
    "    time_str = f\"['{row['MeanTime']:.8f}']\"\n",
    "    return f'{row[\"Application\"]},\"({alloc_str}, {time_str})\"'\n",
    "\n",
    "# Aplica a formatação\n",
    "df['Formatted'] = df.apply(format_row, axis=1)\n",
    "\n",
    "# Salva sem aspas duplicadas\n",
    "with open('formatted_'+file, 'w', newline='') as f:\n",
    "    for line in df['Formatted']:\n",
    "        f.write(line + '\\n')"
   ]
  },
  {
   "cell_type": "code",
   "execution_count": null,
   "id": "b421e57e",
   "metadata": {},
   "outputs": [],
   "source": []
  }
 ],
 "metadata": {
  "kernelspec": {
   "display_name": "Solvers",
   "language": "python",
   "name": "python3"
  },
  "language_info": {
   "codemirror_mode": {
    "name": "ipython",
    "version": 3
   },
   "file_extension": ".py",
   "mimetype": "text/x-python",
   "name": "python",
   "nbconvert_exporter": "python",
   "pygments_lexer": "ipython3",
   "version": "3.10.14"
  }
 },
 "nbformat": 4,
 "nbformat_minor": 5
}
